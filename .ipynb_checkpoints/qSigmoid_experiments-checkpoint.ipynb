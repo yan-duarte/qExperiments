{
 "cells": [
  {
   "cell_type": "code",
   "execution_count": 1,
   "metadata": {},
   "outputs": [],
   "source": [
    "import os\n",
    "import math\n",
    "import dicom\n",
    "import numpy as np\n",
    "from lxml import etree\n",
    "from scipy import ndimage\n",
    "from matplotlib import cm\n",
    "from matplotlib import pyplot as plt\n",
    "from qstatistic.qstatistic import qSigmoid"
   ]
  },
  {
   "cell_type": "code",
   "execution_count": 2,
   "metadata": {
    "collapsed": true
   },
   "outputs": [],
   "source": [
    "# Load all images directories from a folder to a list.\n",
    "def loadDirectories(PathDicom=\"./images/\", PathXml=\"./xml/\"):\n",
    "    lstFile = []\n",
    "    for dirDicomName, subdirDicomList, fileDicomList in os.walk(PathDicom):\n",
    "        for filenameDicom in fileDicomList:\n",
    "            dicom_name = filenameDicom.split('.')[0]\n",
    "            dicom_ext = filenameDicom.split('.')[1]\n",
    "            for dirXmlName, subdirXmlList, fileXmlList in os.walk(PathXml):\n",
    "                for filenameXml in fileXmlList:\n",
    "                    xml_name = filenameXml.split('.')[0]\n",
    "                    xml_ext = filenameXml.split('.')[1]\n",
    "\n",
    "                    if dicom_ext.lower() == 'dcm' and xml_ext.lower() == 'xml' and \\\n",
    "                            dicom_name.split('_')[0] == xml_name:\n",
    "                        lstFile.append({\n",
    "                            'dicom': os.path.join(dirDicomName,filenameDicom),\n",
    "                            'xml': os.path.join(dirXmlName,filenameXml)\n",
    "                        })\n",
    "\n",
    "    return lstFile"
   ]
  },
  {
   "cell_type": "code",
   "execution_count": 3,
   "metadata": {
    "collapsed": true
   },
   "outputs": [],
   "source": [
    "def readXml(AllFiles):\n",
    "    result = []\n",
    "    \n",
    "    for i in range(len(AllFiles)):\n",
    "        doc = etree.parse(AllFiles[i].get('xml'))\n",
    "\n",
    "        rois = doc.find('dict').find('array').find('dict').find('array').findall('dict')\n",
    "\n",
    "        count = 1\n",
    "        for r in rois:\n",
    "            roi_type = r.findall('string')[-1]\n",
    "            roi_points = r.findall('array')[-1].findall('string')\n",
    "            if roi_type.text == 'Mass':\n",
    "                AllFiles[i]['type_'+str(count)] = roi_type.text\n",
    "                points = []\n",
    "                for p in roi_points:\n",
    "                    points.append((round(float(p.text.replace('(', '').replace(')', '').split(', ')[1])),\n",
    "                                   round(float(p.text.replace('(', '').replace(')', '').split(', ')[0]))))\n",
    "                AllFiles[i]['points_'+str(count)] = points\n",
    "                count += 1\n",
    "                result.append(AllFiles[i])\n",
    "        \n",
    "    return result"
   ]
  },
  {
   "cell_type": "code",
   "execution_count": 4,
   "metadata": {
    "collapsed": true
   },
   "outputs": [],
   "source": [
    "def normalize(v):\n",
    "    norm=np.linalg.norm(v)\n",
    "    if norm==0: \n",
    "       return v\n",
    "    return v/norm"
   ]
  },
  {
   "cell_type": "code",
   "execution_count": 5,
   "metadata": {
    "collapsed": true
   },
   "outputs": [],
   "source": [
    "def makeSegmentation(image_path):\n",
    "    # Make qSigmoid with one image from list.\n",
    "    image_full = dicom.read_file(image_path.get('dicom'))\n",
    "\n",
    "    #image\n",
    "    image = image_full.pixel_array\n",
    "\n",
    "    #image qSigmoid\n",
    "    L = np.max(image)\n",
    "    B = 1760\n",
    "    a = 110\n",
    "    q = 0.35\n",
    "\n",
    "    image_qSigmoid = qSigmoid(L=L, I=image, B=B, a=a, q=q).calc()\n",
    "    \n",
    "    image_xml = np.zeros(image.shape)\n",
    "    \n",
    "    points = image_path.get('points_1')\n",
    "    for p in points:\n",
    "        image_xml[p] = 1    \n",
    "        \n",
    "        \n",
    "    open_close_size = (5,5)\n",
    "\n",
    "    im = normalize(image_qSigmoid)\n",
    "    lin, col = im.shape\n",
    "\n",
    "    mask = (im > im.mean()).astype(np.float)\n",
    "\n",
    "    binary_img = mask > 0.5\n",
    "\n",
    "    # Remove small white regions\n",
    "    open_img = ndimage.binary_opening(binary_img, structure=np.ones(open_close_size))\n",
    "\n",
    "    # Remove small black hole\n",
    "    close_img = ndimage.binary_closing(open_img, structure=np.ones(open_close_size))\n",
    "    \n",
    "    return [image, image_xml, close_img, image_qSigmoid]"
   ]
  },
  {
   "cell_type": "code",
   "execution_count": 6,
   "metadata": {
    "collapsed": true
   },
   "outputs": [],
   "source": [
    "def plotSegmentation(image, image_xml, image_morph, image_qSigmoid):\n",
    "    plt.figure(figsize=(18, 12))\n",
    "\n",
    "    plt.subplot(231)\n",
    "    plt.imshow(image, cmap=plt.cm.gray)\n",
    "    plt.title('Original')\n",
    "\n",
    "    # plt.subplot(232)\n",
    "    # plt.imshow(image_xml, cmap=plt.cm.gray)\n",
    "    # plt.title('XML')\n",
    "\n",
    "    plt.subplot(233)\n",
    "    plt.imshow(image, cmap=plt.cm.gray)\n",
    "    plt.contour(image_xml, [0.5], linewidths=1, colors='r')\n",
    "    plt.title('XML Contoured')\n",
    "\n",
    "    plt.subplot(234)\n",
    "    plt.imshow(image_qSigmoid, cmap=plt.cm.gray)\n",
    "    plt.title('qSigmoid')\n",
    "\n",
    "    plt.subplot(235)\n",
    "    plt.imshow(image_morph, cmap=plt.cm.gray)\n",
    "    plt.title('qSigmoid After Morphology')\n",
    "\n",
    "    plt.subplot(236)\n",
    "    plt.imshow(image, cmap=plt.cm.gray)\n",
    "    plt.contour(image_morph, [0.5], linewidths=1, colors='r')\n",
    "    plt.title('qSigmoid Contoured')\n",
    "\n",
    "    plt.show()"
   ]
  },
  {
   "cell_type": "code",
   "execution_count": 8,
   "metadata": {},
   "outputs": [
    {
     "ename": "ValueError",
     "evalue": "too many values to unpack (expected 2)",
     "output_type": "error",
     "traceback": [
      "\u001b[0;31m---------------------------------------------------------------------------\u001b[0m",
      "\u001b[0;31mValueError\u001b[0m                                Traceback (most recent call last)",
      "\u001b[0;32m<ipython-input-8-4b896b5722fb>\u001b[0m in \u001b[0;36m<module>\u001b[0;34m()\u001b[0m\n\u001b[1;32m      5\u001b[0m \u001b[0mall_files\u001b[0m \u001b[0;34m=\u001b[0m \u001b[0mreadXml\u001b[0m\u001b[0;34m(\u001b[0m\u001b[0mall_files\u001b[0m\u001b[0;34m)\u001b[0m\u001b[0;34m\u001b[0m\u001b[0m\n\u001b[1;32m      6\u001b[0m \u001b[0;34m\u001b[0m\u001b[0m\n\u001b[0;32m----> 7\u001b[0;31m \u001b[0;32mfor\u001b[0m \u001b[0midx\u001b[0m\u001b[0;34m,\u001b[0m \u001b[0mimg\u001b[0m \u001b[0;32min\u001b[0m \u001b[0mall_files\u001b[0m\u001b[0;34m:\u001b[0m\u001b[0;34m\u001b[0m\u001b[0m\n\u001b[0m\u001b[1;32m      8\u001b[0m     \u001b[0mprint\u001b[0m\u001b[0;34m(\u001b[0m\u001b[0midx\u001b[0m\u001b[0;34m)\u001b[0m\u001b[0;34m\u001b[0m\u001b[0m\n\u001b[1;32m      9\u001b[0m \u001b[0;31m#     print('Imagem {}.'.format(0))\u001b[0m\u001b[0;34m\u001b[0m\u001b[0;34m\u001b[0m\u001b[0m\n",
      "\u001b[0;31mValueError\u001b[0m: too many values to unpack (expected 2)"
     ]
    }
   ],
   "source": [
    "# Load all directories.\n",
    "all_files = loadDirectories()\n",
    "\n",
    "# Read all xml files that contain mass.\n",
    "all_files = readXml(all_files)\n",
    "\n",
    "for file_idx in range(len(all_files)):\n",
    "    print('Imagem {}.'.format(file_idx))\n",
    "    image, image_xml, close_img, image_qSigmoid = makeSegmentation(all_files[file_idx])\n",
    "    plotSegmentation(image, image_xml, close_img, image_qSigmoid)\n"
   ]
  },
  {
   "cell_type": "code",
   "execution_count": null,
   "metadata": {
    "collapsed": true
   },
   "outputs": [],
   "source": []
  },
  {
   "cell_type": "code",
   "execution_count": null,
   "metadata": {
    "collapsed": true
   },
   "outputs": [],
   "source": []
  },
  {
   "cell_type": "code",
   "execution_count": null,
   "metadata": {
    "collapsed": true
   },
   "outputs": [],
   "source": []
  },
  {
   "cell_type": "code",
   "execution_count": null,
   "metadata": {},
   "outputs": [],
   "source": []
  },
  {
   "cell_type": "code",
   "execution_count": null,
   "metadata": {},
   "outputs": [],
   "source": []
  }
 ],
 "metadata": {
  "kernelspec": {
   "display_name": "Python 3",
   "language": "python",
   "name": "python3"
  },
  "language_info": {
   "codemirror_mode": {
    "name": "ipython",
    "version": 3
   },
   "file_extension": ".py",
   "mimetype": "text/x-python",
   "name": "python",
   "nbconvert_exporter": "python",
   "pygments_lexer": "ipython3",
   "version": "3.5.0"
  }
 },
 "nbformat": 4,
 "nbformat_minor": 2
}
